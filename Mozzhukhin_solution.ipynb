{
 "cells": [
  {
   "cell_type": "markdown",
   "metadata": {},
   "source": [
    "Загрузка библиотек"
   ]
  },
  {
   "cell_type": "code",
   "execution_count": 89,
   "metadata": {},
   "outputs": [],
   "source": [
    "import numpy as np\n",
    "import pandas as pd\n",
    "import random\n",
    "\n",
    "from sklearn.model_selection import train_test_split\n",
    "from sklearn.model_selection import cross_val_score\n",
    "from sklearn.ensemble import RandomForestRegressor, GradientBoostingRegressor\n",
    "from sklearn.metrics import mean_squared_error as mse, r2_score\n",
    "from sklearn.model_selection import KFold, GridSearchCV\n",
    "\n",
    "import matplotlib\n",
    "import matplotlib.pyplot as plt\n",
    "import seaborn as sns\n",
    "from scipy import stats\n",
    "%matplotlib inline\n",
    "matplotlib.rcParams.update({'font.size': 14})\n",
    "\n",
    "import warnings\n",
    "warnings.filterwarnings('ignore')"
   ]
  },
  {
   "cell_type": "markdown",
   "metadata": {},
   "source": [
    "Загрузка данных"
   ]
  },
  {
   "cell_type": "code",
   "execution_count": 90,
   "metadata": {},
   "outputs": [
    {
     "data": {
      "text/plain": [
       "((10000, 19), (5000, 18))"
      ]
     },
     "execution_count": 90,
     "metadata": {},
     "output_type": "execute_result"
    }
   ],
   "source": [
    "train_df = pd.read_csv('train.csv')\n",
    "test_df = pd.read_csv('test.csv')\n",
    "\n",
    "train_df.set_index('Id', inplace=True)\n",
    "test_df.set_index('Id', inplace=True)\n",
    "\n",
    "train_df.shape, test_df.shape"
   ]
  },
  {
   "cell_type": "code",
   "execution_count": 91,
   "metadata": {},
   "outputs": [],
   "source": [
    "def reduce_mem_usage(df):\n",
    "    \"\"\" iterate through all the columns of a dataframe and modify the data type\n",
    "        to reduce memory usage.        \n",
    "    \"\"\"\n",
    "    start_mem = df.memory_usage().sum() / 1024**2\n",
    "    print('Memory usage of dataframe is {:.2f} MB'.format(start_mem))\n",
    "    \n",
    "    for col in df.columns:\n",
    "        col_type = df[col].dtype\n",
    "        \n",
    "        if col_type != object:\n",
    "            c_min = df[col].min()\n",
    "            c_max = df[col].max()\n",
    "            if str(col_type)[:3] == 'int':\n",
    "                if c_min > np.iinfo(np.int8).min and c_max < np.iinfo(np.int8).max:\n",
    "                    df[col] = df[col].astype(np.int8)\n",
    "                elif c_min > np.iinfo(np.int16).min and c_max < np.iinfo(np.int16).max:\n",
    "                    df[col] = df[col].astype(np.int16)\n",
    "                elif c_min > np.iinfo(np.int32).min and c_max < np.iinfo(np.int32).max:\n",
    "                    df[col] = df[col].astype(np.int32)\n",
    "                elif c_min > np.iinfo(np.int64).min and c_max < np.iinfo(np.int64).max:\n",
    "                    df[col] = df[col].astype(np.int64)  \n",
    "            else:\n",
    "                if c_min > np.finfo(np.float32).min and c_max < np.finfo(np.float32).max:\n",
    "                    df[col] = df[col].astype(np.float32)\n",
    "                else:\n",
    "                    df[col] = df[col].astype(np.float64)\n",
    "        else:\n",
    "            df[col] = df[col].astype('category')\n",
    "\n",
    "    end_mem = df.memory_usage().sum() / 1024**2\n",
    "    print('Memory usage after optimization is: {:.2f} MB'.format(end_mem))\n",
    "    print('Decreased by {:.1f}%'.format(100 * (start_mem - end_mem) / start_mem))\n",
    "    \n",
    "    return df"
   ]
  },
  {
   "cell_type": "markdown",
   "metadata": {},
   "source": [
    "Сокращаем потребляемую память"
   ]
  },
  {
   "cell_type": "code",
   "execution_count": 92,
   "metadata": {},
   "outputs": [
    {
     "name": "stdout",
     "output_type": "stream",
     "text": [
      "Memory usage of dataframe is 1.53 MB\n",
      "Memory usage after optimization is: 0.54 MB\n",
      "Decreased by 64.4%\n"
     ]
    }
   ],
   "source": [
    "train_df = reduce_mem_usage(train_df)"
   ]
  },
  {
   "cell_type": "code",
   "execution_count": 93,
   "metadata": {},
   "outputs": [
    {
     "name": "stdout",
     "output_type": "stream",
     "text": [
      "Memory usage of dataframe is 0.72 MB\n",
      "Memory usage after optimization is: 0.24 MB\n",
      "Decreased by 66.4%\n"
     ]
    }
   ],
   "source": [
    "test_df = reduce_mem_usage(test_df)"
   ]
  },
  {
   "cell_type": "code",
   "execution_count": 94,
   "metadata": {},
   "outputs": [
    {
     "name": "stdout",
     "output_type": "stream",
     "text": [
      "<class 'pandas.core.frame.DataFrame'>\n",
      "Int64Index: 10000 entries, 14038 to 6306\n",
      "Data columns (total 19 columns):\n",
      " #   Column         Non-Null Count  Dtype   \n",
      "---  ------         --------------  -----   \n",
      " 0   DistrictId     10000 non-null  int16   \n",
      " 1   Rooms          10000 non-null  float32 \n",
      " 2   Square         10000 non-null  float32 \n",
      " 3   LifeSquare     7887 non-null   float32 \n",
      " 4   KitchenSquare  10000 non-null  float32 \n",
      " 5   Floor          10000 non-null  int8    \n",
      " 6   HouseFloor     10000 non-null  float32 \n",
      " 7   HouseYear      10000 non-null  int32   \n",
      " 8   Ecology_1      10000 non-null  float32 \n",
      " 9   Ecology_2      10000 non-null  category\n",
      " 10  Ecology_3      10000 non-null  category\n",
      " 11  Social_1       10000 non-null  int8    \n",
      " 12  Social_2       10000 non-null  int16   \n",
      " 13  Social_3       10000 non-null  int16   \n",
      " 14  Healthcare_1   5202 non-null   float32 \n",
      " 15  Helthcare_2    10000 non-null  int8    \n",
      " 16  Shops_1        10000 non-null  int8    \n",
      " 17  Shops_2        10000 non-null  category\n",
      " 18  Price          10000 non-null  float32 \n",
      "dtypes: category(3), float32(8), int16(3), int32(1), int8(4)\n",
      "memory usage: 556.9 KB\n"
     ]
    }
   ],
   "source": [
    "train_df.info()"
   ]
  },
  {
   "cell_type": "markdown",
   "metadata": {},
   "source": [
    "#### Обработка пропусков"
   ]
  },
  {
   "cell_type": "code",
   "execution_count": 95,
   "metadata": {},
   "outputs": [
    {
     "data": {
      "text/plain": [
       "DistrictId          0\n",
       "Rooms               0\n",
       "Square              0\n",
       "LifeSquare       2113\n",
       "KitchenSquare       0\n",
       "Floor               0\n",
       "HouseFloor          0\n",
       "HouseYear           0\n",
       "Ecology_1           0\n",
       "Ecology_2           0\n",
       "Ecology_3           0\n",
       "Social_1            0\n",
       "Social_2            0\n",
       "Social_3            0\n",
       "Healthcare_1     4798\n",
       "Helthcare_2         0\n",
       "Shops_1             0\n",
       "Shops_2             0\n",
       "Price               0\n",
       "dtype: int64"
      ]
     },
     "execution_count": 95,
     "metadata": {},
     "output_type": "execute_result"
    }
   ],
   "source": [
    "train_df.isna().sum()"
   ]
  },
  {
   "cell_type": "markdown",
   "metadata": {},
   "source": [
    "Находим соотношение медиан жилой площади к общей площади"
   ]
  },
  {
   "cell_type": "code",
   "execution_count": 96,
   "metadata": {},
   "outputs": [
    {
     "data": {
      "text/plain": [
       "(0.6242467246775019, 0.6221514116761379)"
      ]
     },
     "execution_count": 96,
     "metadata": {},
     "output_type": "execute_result"
    }
   ],
   "source": [
    "median_ls_train = (train_df['LifeSquare']).median() / (train_df['Square']).median()\n",
    "median_ls_test = (test_df['LifeSquare']).median() / (test_df['Square']).median()\n",
    "median_ls_train, median_ls_test"
   ]
  },
  {
   "cell_type": "markdown",
   "metadata": {},
   "source": [
    "Заполняем пропуски в LifeSquare значением df['Square'] * median_ls"
   ]
  },
  {
   "cell_type": "code",
   "execution_count": 97,
   "metadata": {},
   "outputs": [],
   "source": [
    "train_df['LifeSquare'].fillna(train_df['Square'] * median_ls_train, inplace=True)\n",
    "test_df['LifeSquare'].fillna(test_df['Square'] * median_ls_test, inplace=True)"
   ]
  },
  {
   "cell_type": "markdown",
   "metadata": {},
   "source": [
    "Находим моду для Healthcare_1"
   ]
  },
  {
   "cell_type": "code",
   "execution_count": 98,
   "metadata": {},
   "outputs": [
    {
     "data": {
      "text/plain": [
       "(540.0, 540.0)"
      ]
     },
     "execution_count": 98,
     "metadata": {},
     "output_type": "execute_result"
    }
   ],
   "source": [
    "mode_hc1_train = train_df['Healthcare_1'].mode()[0]\n",
    "mode_hc1_test = test_df['Healthcare_1'].mode()[0]\n",
    "mode_hc1_train, mode_hc1_test"
   ]
  },
  {
   "cell_type": "markdown",
   "metadata": {},
   "source": [
    "Заполняем пропуски в Healthcare_1 значением mode_hc1"
   ]
  },
  {
   "cell_type": "code",
   "execution_count": 99,
   "metadata": {},
   "outputs": [],
   "source": [
    "train_df['Healthcare_1'].fillna(mode_hc1_train, inplace=True)\n",
    "test_df['Healthcare_1'].fillna(mode_hc1_test, inplace=True)"
   ]
  },
  {
   "cell_type": "code",
   "execution_count": 100,
   "metadata": {},
   "outputs": [
    {
     "data": {
      "text/plain": [
       "DistrictId       0\n",
       "Rooms            0\n",
       "Square           0\n",
       "LifeSquare       0\n",
       "KitchenSquare    0\n",
       "Floor            0\n",
       "HouseFloor       0\n",
       "HouseYear        0\n",
       "Ecology_1        0\n",
       "Ecology_2        0\n",
       "Ecology_3        0\n",
       "Social_1         0\n",
       "Social_2         0\n",
       "Social_3         0\n",
       "Healthcare_1     0\n",
       "Helthcare_2      0\n",
       "Shops_1          0\n",
       "Shops_2          0\n",
       "Price            0\n",
       "dtype: int64"
      ]
     },
     "execution_count": 100,
     "metadata": {},
     "output_type": "execute_result"
    }
   ],
   "source": [
    "train_df.isna().sum()"
   ]
  },
  {
   "cell_type": "code",
   "execution_count": 101,
   "metadata": {},
   "outputs": [
    {
     "data": {
      "text/plain": [
       "DistrictId       0\n",
       "Rooms            0\n",
       "Square           0\n",
       "LifeSquare       0\n",
       "KitchenSquare    0\n",
       "Floor            0\n",
       "HouseFloor       0\n",
       "HouseYear        0\n",
       "Ecology_1        0\n",
       "Ecology_2        0\n",
       "Ecology_3        0\n",
       "Social_1         0\n",
       "Social_2         0\n",
       "Social_3         0\n",
       "Healthcare_1     0\n",
       "Helthcare_2      0\n",
       "Shops_1          0\n",
       "Shops_2          0\n",
       "dtype: int64"
      ]
     },
     "execution_count": 101,
     "metadata": {},
     "output_type": "execute_result"
    }
   ],
   "source": [
    "test_df.isna().sum()"
   ]
  },
  {
   "cell_type": "code",
   "execution_count": 102,
   "metadata": {},
   "outputs": [
    {
     "name": "stdout",
     "output_type": "stream",
     "text": [
      "<class 'pandas.core.frame.DataFrame'>\n",
      "Int64Index: 10000 entries, 14038 to 6306\n",
      "Data columns (total 19 columns):\n",
      " #   Column         Non-Null Count  Dtype   \n",
      "---  ------         --------------  -----   \n",
      " 0   DistrictId     10000 non-null  int16   \n",
      " 1   Rooms          10000 non-null  float32 \n",
      " 2   Square         10000 non-null  float32 \n",
      " 3   LifeSquare     10000 non-null  float32 \n",
      " 4   KitchenSquare  10000 non-null  float32 \n",
      " 5   Floor          10000 non-null  int8    \n",
      " 6   HouseFloor     10000 non-null  float32 \n",
      " 7   HouseYear      10000 non-null  int32   \n",
      " 8   Ecology_1      10000 non-null  float32 \n",
      " 9   Ecology_2      10000 non-null  category\n",
      " 10  Ecology_3      10000 non-null  category\n",
      " 11  Social_1       10000 non-null  int8    \n",
      " 12  Social_2       10000 non-null  int16   \n",
      " 13  Social_3       10000 non-null  int16   \n",
      " 14  Healthcare_1   10000 non-null  float32 \n",
      " 15  Helthcare_2    10000 non-null  int8    \n",
      " 16  Shops_1        10000 non-null  int8    \n",
      " 17  Shops_2        10000 non-null  category\n",
      " 18  Price          10000 non-null  float32 \n",
      "dtypes: category(3), float32(8), int16(3), int32(1), int8(4)\n",
      "memory usage: 556.9 KB\n"
     ]
    }
   ],
   "source": [
    "train_df.info()"
   ]
  },
  {
   "cell_type": "markdown",
   "metadata": {},
   "source": [
    "#### Обработка категориальных признаков"
   ]
  },
  {
   "cell_type": "code",
   "execution_count": 103,
   "metadata": {},
   "outputs": [],
   "source": [
    "feature_bin_names = ['Ecology_2', 'Ecology_3', 'Shops_2']\n",
    "\n",
    "train_df[feature_bin_names] = train_df[feature_bin_names].replace({'A':0, 'B':1})\n",
    "test_df[feature_bin_names] = test_df[feature_bin_names].replace({'A':0, 'B':1})"
   ]
  },
  {
   "cell_type": "code",
   "execution_count": 104,
   "metadata": {},
   "outputs": [
    {
     "name": "stdout",
     "output_type": "stream",
     "text": [
      "<class 'pandas.core.frame.DataFrame'>\n",
      "Int64Index: 10000 entries, 14038 to 6306\n",
      "Data columns (total 19 columns):\n",
      " #   Column         Non-Null Count  Dtype  \n",
      "---  ------         --------------  -----  \n",
      " 0   DistrictId     10000 non-null  int16  \n",
      " 1   Rooms          10000 non-null  float32\n",
      " 2   Square         10000 non-null  float32\n",
      " 3   LifeSquare     10000 non-null  float32\n",
      " 4   KitchenSquare  10000 non-null  float32\n",
      " 5   Floor          10000 non-null  int8   \n",
      " 6   HouseFloor     10000 non-null  float32\n",
      " 7   HouseYear      10000 non-null  int32  \n",
      " 8   Ecology_1      10000 non-null  float32\n",
      " 9   Ecology_2      10000 non-null  int64  \n",
      " 10  Ecology_3      10000 non-null  int64  \n",
      " 11  Social_1       10000 non-null  int8   \n",
      " 12  Social_2       10000 non-null  int16  \n",
      " 13  Social_3       10000 non-null  int16  \n",
      " 14  Healthcare_1   10000 non-null  float32\n",
      " 15  Helthcare_2    10000 non-null  int8   \n",
      " 16  Shops_1        10000 non-null  int8   \n",
      " 17  Shops_2        10000 non-null  int64  \n",
      " 18  Price          10000 non-null  float32\n",
      "dtypes: float32(8), int16(3), int32(1), int64(3), int8(4)\n",
      "memory usage: 761.7 KB\n"
     ]
    }
   ],
   "source": [
    "train_df.info()"
   ]
  },
  {
   "cell_type": "markdown",
   "metadata": {},
   "source": [
    "#### Анализ признаков и очистка данных"
   ]
  },
  {
   "cell_type": "code",
   "execution_count": 105,
   "metadata": {},
   "outputs": [
    {
     "data": {
      "image/png": "[encoded data removed]",
      "text/plain": [
       "<Figure size 432x288 with 1 Axes>"
      ]
     },
     "metadata": {
      "needs_background": "light"
     },
     "output_type": "display_data"
    }
   ],
   "source": [
    "plt.scatter(train_df['Social_3'], train_df['Price']);"
   ]
  },
  {
   "cell_type": "code",
   "execution_count": 106,
   "metadata": {},
   "outputs": [
    {
     "data": {
      "image/png": "[encoded data removed]",
      "text/plain": [
       "<Figure size 432x216 with 1 Axes>"
      ]
     },
     "metadata": {
      "needs_background": "light"
     },
     "output_type": "display_data"
    }
   ],
   "source": [
    "plt.figure(figsize=(6, 3))\n",
    "\n",
    "sns.boxplot(train_df['Social_3'], whis=1.5)\n",
    "\n",
    "plt.xlabel('Social_3')\n",
    "plt.show()"
   ]
  },
  {
   "cell_type": "code",
   "execution_count": 107,
   "metadata": {},
   "outputs": [
    {
     "data": {
      "image/png": "[encoded data removed]",
      "text/plain": [
       "<Figure size 432x288 with 1 Axes>"
      ]
     },
     "metadata": {
      "needs_background": "light"
     },
     "output_type": "display_data"
    }
   ],
   "source": [
    "train_df['Social_3'].hist();"
   ]
  },
  {
   "cell_type": "markdown",
   "metadata": {},
   "source": [
    "Заполняем медианой отклонения по Social_3"
   ]
  },
  {
   "cell_type": "code",
   "execution_count": 108,
   "metadata": {},
   "outputs": [],
   "source": [
    "train_df.loc[train_df['Social_3'] > 10, 'Social_3'] = train_df['Social_3'].median()\n",
    "test_df.loc[test_df['Social_3'] > 10, 'Social_3'] = test_df['Social_3'].median()"
   ]
  },
  {
   "cell_type": "code",
   "execution_count": 109,
   "metadata": {},
   "outputs": [
    {
     "data": {
      "image/png": "[encoded data removed]",
      "text/plain": [
       "<Figure size 432x216 with 1 Axes>"
      ]
     },
     "metadata": {
      "needs_background": "light"
     },
     "output_type": "display_data"
    }
   ],
   "source": [
    "plt.figure(figsize=(6, 3))\n",
    "\n",
    "sns.boxplot(train_df['Rooms'], whis=1.5)\n",
    "\n",
    "plt.xlabel('Rooms')\n",
    "plt.show()"
   ]
  },
  {
   "cell_type": "markdown",
   "metadata": {},
   "source": [
    "Удаляем из выборки квартиры с более, чем 5 комнатами (их всего 4)"
   ]
  },
  {
   "cell_type": "code",
   "execution_count": 110,
   "metadata": {},
   "outputs": [],
   "source": [
    "train_df.loc[(train_df['Rooms'] > 5), 'Rooms'] = train_df['Rooms'].mode()[0]\n",
    "test_df.loc[(test_df['Rooms'] > 5), 'Rooms'] = train_df['Rooms'].mode()[0]"
   ]
  },
  {
   "cell_type": "code",
   "execution_count": 111,
   "metadata": {},
   "outputs": [
    {
     "data": {
      "image/png": "[encoded data removed]",
      "text/plain": [
       "<Figure size 432x216 with 1 Axes>"
      ]
     },
     "metadata": {
      "needs_background": "light"
     },
     "output_type": "display_data"
    }
   ],
   "source": [
    "plt.figure(figsize=(6, 3))\n",
    "\n",
    "sns.boxplot(train_df['HouseYear'], whis=1.5)\n",
    "\n",
    "plt.xlabel('HouseYear')\n",
    "plt.show()"
   ]
  },
  {
   "cell_type": "markdown",
   "metadata": {},
   "source": [
    "Заполняем медианами отклонения до 1935 года постройки"
   ]
  },
  {
   "cell_type": "code",
   "execution_count": 112,
   "metadata": {},
   "outputs": [],
   "source": [
    "train_df.loc[train_df['HouseYear'] < 1935, 'HouseYear'] = int(train_df['HouseYear'].median())\n",
    "test_df.loc[test_df['HouseYear'] < 1935, 'HouseYear'] = int(test_df['HouseYear'].median())"
   ]
  },
  {
   "cell_type": "markdown",
   "metadata": {},
   "source": [
    "Убираем отклонения более 2020 года постройки"
   ]
  },
  {
   "cell_type": "code",
   "execution_count": 113,
   "metadata": {},
   "outputs": [],
   "source": [
    "train_df.loc[train_df['HouseYear'] > 2020, 'HouseYear'] = 2020"
   ]
  },
  {
   "cell_type": "markdown",
   "metadata": {},
   "source": [
    "##### Очищаем данные по площадям общей, жилой и кухни"
   ]
  },
  {
   "cell_type": "code",
   "execution_count": 114,
   "metadata": {},
   "outputs": [
    {
     "data": {
      "text/html": [
       "<div>\n",
       "<style scoped>\n",
       "    .dataframe tbody tr th:only-of-type {\n",
       "        vertical-align: middle;\n",
       "    }\n",
       "\n",
       "    .dataframe tbody tr th {\n",
       "        vertical-align: top;\n",
       "    }\n",
       "\n",
       "    .dataframe thead th {\n",
       "        text-align: right;\n",
       "    }\n",
       "</style>\n",
       "<table border=\"1\" class=\"dataframe\">\n",
       "  <thead>\n",
       "    <tr style=\"text-align: right;\">\n",
       "      <th></th>\n",
       "      <th>Square</th>\n",
       "      <th>LifeSquare</th>\n",
       "      <th>KitchenSquare</th>\n",
       "    </tr>\n",
       "  </thead>\n",
       "  <tbody>\n",
       "    <tr>\n",
       "      <th>count</th>\n",
       "      <td>10000.000000</td>\n",
       "      <td>10000.000000</td>\n",
       "      <td>10000.000000</td>\n",
       "    </tr>\n",
       "    <tr>\n",
       "      <th>mean</th>\n",
       "      <td>56.315712</td>\n",
       "      <td>37.300068</td>\n",
       "      <td>6.273300</td>\n",
       "    </tr>\n",
       "    <tr>\n",
       "      <th>std</th>\n",
       "      <td>21.058718</td>\n",
       "      <td>76.868866</td>\n",
       "      <td>28.561113</td>\n",
       "    </tr>\n",
       "    <tr>\n",
       "      <th>min</th>\n",
       "      <td>1.136859</td>\n",
       "      <td>0.370619</td>\n",
       "      <td>0.000000</td>\n",
       "    </tr>\n",
       "    <tr>\n",
       "      <th>25%</th>\n",
       "      <td>41.774879</td>\n",
       "      <td>24.352570</td>\n",
       "      <td>1.000000</td>\n",
       "    </tr>\n",
       "    <tr>\n",
       "      <th>50%</th>\n",
       "      <td>52.513309</td>\n",
       "      <td>33.290489</td>\n",
       "      <td>6.000000</td>\n",
       "    </tr>\n",
       "    <tr>\n",
       "      <th>75%</th>\n",
       "      <td>65.900627</td>\n",
       "      <td>44.933548</td>\n",
       "      <td>9.000000</td>\n",
       "    </tr>\n",
       "    <tr>\n",
       "      <th>max</th>\n",
       "      <td>641.065186</td>\n",
       "      <td>7480.592285</td>\n",
       "      <td>2014.000000</td>\n",
       "    </tr>\n",
       "  </tbody>\n",
       "</table>\n",
       "</div>"
      ],
      "text/plain": [
       "             Square    LifeSquare  KitchenSquare\n",
       "count  10000.000000  10000.000000   10000.000000\n",
       "mean      56.315712     37.300068       6.273300\n",
       "std       21.058718     76.868866      28.561113\n",
       "min        1.136859      0.370619       0.000000\n",
       "25%       41.774879     24.352570       1.000000\n",
       "50%       52.513309     33.290489       6.000000\n",
       "75%       65.900627     44.933548       9.000000\n",
       "max      641.065186   7480.592285    2014.000000"
      ]
     },
     "execution_count": 114,
     "metadata": {},
     "output_type": "execute_result"
    }
   ],
   "source": [
    "train_df[['Square', 'LifeSquare', 'KitchenSquare']].describe()"
   ]
  },
  {
   "cell_type": "markdown",
   "metadata": {},
   "source": [
    "Находим соотношение медиан кухни и общей площади"
   ]
  },
  {
   "cell_type": "code",
   "execution_count": 115,
   "metadata": {},
   "outputs": [
    {
     "data": {
      "text/plain": [
       "(0.11425674861392691, 0.11337581197219465)"
      ]
     },
     "execution_count": 115,
     "metadata": {},
     "output_type": "execute_result"
    }
   ],
   "source": [
    "median_k_sq_train = train_df['KitchenSquare'].median() / train_df['Square'].median()\n",
    "median_k_sq_test = test_df['KitchenSquare'].median() / test_df['Square'].median()\n",
    "median_k_sq_train, median_k_sq_test"
   ]
  },
  {
   "cell_type": "markdown",
   "metadata": {},
   "source": [
    "Находим соотношение медиан общей площади и жилой"
   ]
  },
  {
   "cell_type": "code",
   "execution_count": 116,
   "metadata": {},
   "outputs": [
    {
     "data": {
      "text/plain": [
       "(1.5774267890254754, 1.5789935424421442)"
      ]
     },
     "execution_count": 116,
     "metadata": {},
     "output_type": "execute_result"
    }
   ],
   "source": [
    "median_sq_ls_train = train_df['Square'].median() / train_df['LifeSquare'].median()\n",
    "median_sq_ls_test = test_df['Square'].median() / test_df['LifeSquare'].median()\n",
    "median_sq_ls_train, median_sq_ls_test"
   ]
  },
  {
   "cell_type": "markdown",
   "metadata": {},
   "source": [
    "и обратную"
   ]
  },
  {
   "cell_type": "code",
   "execution_count": 117,
   "metadata": {},
   "outputs": [
    {
     "data": {
      "text/plain": [
       "(0.6339438425651398, 0.6333148129620302)"
      ]
     },
     "execution_count": 117,
     "metadata": {},
     "output_type": "execute_result"
    }
   ],
   "source": [
    "median_ls_sq_train = train_df['LifeSquare'].median() / train_df['Square'].median()\n",
    "median_ls_sq_test = test_df['LifeSquare'].median() / test_df['Square'].median()\n",
    "median_ls_sq_train, median_ls_sq_test"
   ]
  },
  {
   "cell_type": "markdown",
   "metadata": {},
   "source": [
    "Заполняем значениями df['Square'] * median_k_sq размер кухонь больше общей площади"
   ]
  },
  {
   "cell_type": "code",
   "execution_count": 118,
   "metadata": {},
   "outputs": [],
   "source": [
    "train_df.loc[train_df['KitchenSquare'] > train_df['Square'], 'KitchenSquare'] = train_df['Square'] * median_k_sq_train\n",
    "test_df.loc[test_df['KitchenSquare'] > test_df['Square'], 'KitchenSquare'] = test_df['Square'] * median_k_sq_test"
   ]
  },
  {
   "cell_type": "markdown",
   "metadata": {},
   "source": [
    "Заполняем значениями df['Square'] * mediad_ls_sq размеры жилой площади, если они меньше кухни"
   ]
  },
  {
   "cell_type": "code",
   "execution_count": 119,
   "metadata": {},
   "outputs": [],
   "source": [
    "train_df.loc[train_df['KitchenSquare'] > train_df['LifeSquare'], 'LifeSquare'] = train_df['Square'] * median_ls_sq_train\n",
    "test_df.loc[test_df['KitchenSquare'] > test_df['LifeSquare'], 'LifeSquare'] = test_df['Square'] * median_ls_sq_test"
   ]
  },
  {
   "cell_type": "markdown",
   "metadata": {},
   "source": [
    "Заполняем значениями df['Square'] * median_k_sq размер кухонь больше жилой площади"
   ]
  },
  {
   "cell_type": "code",
   "execution_count": 120,
   "metadata": {},
   "outputs": [],
   "source": [
    "train_df.loc[train_df['KitchenSquare'] > train_df['LifeSquare'], 'KitchenSquare'] = train_df['Square'] * median_k_sq_train\n",
    "test_df.loc[test_df['KitchenSquare'] > test_df['LifeSquare'], 'KitchenSquare'] = test_df['Square'] * median_k_sq_test"
   ]
  },
  {
   "cell_type": "markdown",
   "metadata": {},
   "source": [
    "Заполняем размеры кухонь df['Square'] * median_k_sq, если их соотношение к общей площади в 3.5 раза больше median_k_sq"
   ]
  },
  {
   "cell_type": "code",
   "execution_count": 121,
   "metadata": {},
   "outputs": [],
   "source": [
    "train_df.loc[train_df['KitchenSquare'] / train_df['Square'] > (median_k_sq_train * 3.5), 'KitchenSquare'] = train_df['Square'] * median_k_sq_train\n",
    "test_df.loc[test_df['KitchenSquare'] / test_df['Square'] > (median_k_sq_test * 3.5), 'KitchenSquare'] = test_df['Square'] * median_k_sq_test"
   ]
  },
  {
   "cell_type": "markdown",
   "metadata": {},
   "source": [
    "Удаляем из обучающего датафрейма строки с явно противоречивыми данными по соотношению площадей"
   ]
  },
  {
   "cell_type": "code",
   "execution_count": 122,
   "metadata": {},
   "outputs": [
    {
     "data": {
      "text/html": [
       "<div>\n",
       "<style scoped>\n",
       "    .dataframe tbody tr th:only-of-type {\n",
       "        vertical-align: middle;\n",
       "    }\n",
       "\n",
       "    .dataframe tbody tr th {\n",
       "        vertical-align: top;\n",
       "    }\n",
       "\n",
       "    .dataframe thead th {\n",
       "        text-align: right;\n",
       "    }\n",
       "</style>\n",
       "<table border=\"1\" class=\"dataframe\">\n",
       "  <thead>\n",
       "    <tr style=\"text-align: right;\">\n",
       "      <th></th>\n",
       "      <th>DistrictId</th>\n",
       "      <th>Rooms</th>\n",
       "      <th>Square</th>\n",
       "      <th>LifeSquare</th>\n",
       "      <th>KitchenSquare</th>\n",
       "      <th>Floor</th>\n",
       "      <th>HouseFloor</th>\n",
       "      <th>HouseYear</th>\n",
       "      <th>Ecology_1</th>\n",
       "      <th>Ecology_2</th>\n",
       "      <th>Ecology_3</th>\n",
       "      <th>Social_1</th>\n",
       "      <th>Social_2</th>\n",
       "      <th>Social_3</th>\n",
       "      <th>Healthcare_1</th>\n",
       "      <th>Helthcare_2</th>\n",
       "      <th>Shops_1</th>\n",
       "      <th>Shops_2</th>\n",
       "      <th>Price</th>\n",
       "    </tr>\n",
       "    <tr>\n",
       "      <th>Id</th>\n",
       "      <th></th>\n",
       "      <th></th>\n",
       "      <th></th>\n",
       "      <th></th>\n",
       "      <th></th>\n",
       "      <th></th>\n",
       "      <th></th>\n",
       "      <th></th>\n",
       "      <th></th>\n",
       "      <th></th>\n",
       "      <th></th>\n",
       "      <th></th>\n",
       "      <th></th>\n",
       "      <th></th>\n",
       "      <th></th>\n",
       "      <th></th>\n",
       "      <th></th>\n",
       "      <th></th>\n",
       "      <th></th>\n",
       "    </tr>\n",
       "  </thead>\n",
       "  <tbody>\n",
       "  </tbody>\n",
       "</table>\n",
       "</div>"
      ],
      "text/plain": [
       "Empty DataFrame\n",
       "Columns: [DistrictId, Rooms, Square, LifeSquare, KitchenSquare, Floor, HouseFloor, HouseYear, Ecology_1, Ecology_2, Ecology_3, Social_1, Social_2, Social_3, Healthcare_1, Helthcare_2, Shops_1, Shops_2, Price]\n",
       "Index: []"
      ]
     },
     "execution_count": 122,
     "metadata": {},
     "output_type": "execute_result"
    }
   ],
   "source": [
    "train_df = train_df.drop(train_df[(train_df['LifeSquare'] < 10) & (train_df['Square'] < 10) & (train_df['Square'] < train_df['LifeSquare'])].index)\n",
    "train_df.loc[(train_df['LifeSquare'] < 10) & (train_df['Square'] < 10) & (train_df['Square'] < train_df['LifeSquare'])]"
   ]
  },
  {
   "cell_type": "markdown",
   "metadata": {},
   "source": [
    "Аналогично"
   ]
  },
  {
   "cell_type": "code",
   "execution_count": 123,
   "metadata": {},
   "outputs": [
    {
     "data": {
      "text/html": [
       "<div>\n",
       "<style scoped>\n",
       "    .dataframe tbody tr th:only-of-type {\n",
       "        vertical-align: middle;\n",
       "    }\n",
       "\n",
       "    .dataframe tbody tr th {\n",
       "        vertical-align: top;\n",
       "    }\n",
       "\n",
       "    .dataframe thead th {\n",
       "        text-align: right;\n",
       "    }\n",
       "</style>\n",
       "<table border=\"1\" class=\"dataframe\">\n",
       "  <thead>\n",
       "    <tr style=\"text-align: right;\">\n",
       "      <th></th>\n",
       "      <th>DistrictId</th>\n",
       "      <th>Rooms</th>\n",
       "      <th>Square</th>\n",
       "      <th>LifeSquare</th>\n",
       "      <th>KitchenSquare</th>\n",
       "      <th>Floor</th>\n",
       "      <th>HouseFloor</th>\n",
       "      <th>HouseYear</th>\n",
       "      <th>Ecology_1</th>\n",
       "      <th>Ecology_2</th>\n",
       "      <th>Ecology_3</th>\n",
       "      <th>Social_1</th>\n",
       "      <th>Social_2</th>\n",
       "      <th>Social_3</th>\n",
       "      <th>Healthcare_1</th>\n",
       "      <th>Helthcare_2</th>\n",
       "      <th>Shops_1</th>\n",
       "      <th>Shops_2</th>\n",
       "      <th>Price</th>\n",
       "    </tr>\n",
       "    <tr>\n",
       "      <th>Id</th>\n",
       "      <th></th>\n",
       "      <th></th>\n",
       "      <th></th>\n",
       "      <th></th>\n",
       "      <th></th>\n",
       "      <th></th>\n",
       "      <th></th>\n",
       "      <th></th>\n",
       "      <th></th>\n",
       "      <th></th>\n",
       "      <th></th>\n",
       "      <th></th>\n",
       "      <th></th>\n",
       "      <th></th>\n",
       "      <th></th>\n",
       "      <th></th>\n",
       "      <th></th>\n",
       "      <th></th>\n",
       "      <th></th>\n",
       "    </tr>\n",
       "  </thead>\n",
       "  <tbody>\n",
       "  </tbody>\n",
       "</table>\n",
       "</div>"
      ],
      "text/plain": [
       "Empty DataFrame\n",
       "Columns: [DistrictId, Rooms, Square, LifeSquare, KitchenSquare, Floor, HouseFloor, HouseYear, Ecology_1, Ecology_2, Ecology_3, Social_1, Social_2, Social_3, Healthcare_1, Helthcare_2, Shops_1, Shops_2, Price]\n",
       "Index: []"
      ]
     },
     "execution_count": 123,
     "metadata": {},
     "output_type": "execute_result"
    }
   ],
   "source": [
    "train_df = train_df.drop(train_df[(train_df['LifeSquare'] > train_df['Square']) & (train_df['LifeSquare'] /  train_df['Square'] > 1.5)].index)\n",
    "train_df.loc[(train_df['LifeSquare'] > train_df['Square']) & (train_df['LifeSquare'] / train_df['Square'] > 1.5)]\n",
    "# test_df.loc[(test_df['LifeSquare'] > test_df['Square']) & (test_df['LifeSquare'] / test_df['Square'] > 1.5)]"
   ]
  },
  {
   "cell_type": "markdown",
   "metadata": {},
   "source": [
    "Заполняем значениями df['Square'] * mediad_ls_sq размеры жилых площадей больших общих"
   ]
  },
  {
   "cell_type": "code",
   "execution_count": 124,
   "metadata": {},
   "outputs": [],
   "source": [
    "train_df.loc[train_df['LifeSquare'] > train_df['Square'], 'LifeSquare'] = train_df['Square'] * median_ls_sq_train\n",
    "test_df.loc[test_df['LifeSquare'] > test_df['Square'], 'LifeSquare'] = test_df['Square'] * median_ls_sq_test"
   ]
  },
  {
   "cell_type": "markdown",
   "metadata": {},
   "source": [
    "Заплняем значениями df['Square'] * mediad_ls_sq размеры жилых площадей, которые меньше 25% от общей площади"
   ]
  },
  {
   "cell_type": "code",
   "execution_count": 125,
   "metadata": {},
   "outputs": [],
   "source": [
    "train_df.loc[train_df['LifeSquare'] < train_df['Square'] * 0.25, 'LifeSquare'] = train_df['Square'] * median_ls_sq_train\n",
    "test_df.loc[test_df['LifeSquare'] < test_df['Square'] * 0.25, 'LifeSquare'] = test_df['Square'] * median_ls_sq_test"
   ]
  },
  {
   "cell_type": "markdown",
   "metadata": {},
   "source": [
    "Заполняем значениями df['Square'] * median_k_sq площади кухонь < 0"
   ]
  },
  {
   "cell_type": "code",
   "execution_count": 126,
   "metadata": {},
   "outputs": [],
   "source": [
    "train_df.loc[train_df['KitchenSquare'] == 0, 'KitchenSquare'] = train_df['Square'] * median_k_sq_train\n",
    "test_df.loc[test_df['KitchenSquare'] == 0, 'KitchenSquare'] = test_df['Square'] * median_k_sq_test"
   ]
  },
  {
   "cell_type": "markdown",
   "metadata": {},
   "source": [
    "В обоих датасетах cлишком много квартир с размером кухни 1 м^2, вероятно это ошибки и/или просто указана ненулевая площадь из-за отсутствия реальных данных. Попробуем исправить"
   ]
  },
  {
   "cell_type": "code",
   "execution_count": 127,
   "metadata": {},
   "outputs": [
    {
     "data": {
      "image/png": "[encoded data removed]",
      "text/plain": [
       "<Figure size 864x432 with 1 Axes>"
      ]
     },
     "metadata": {
      "needs_background": "light"
     },
     "output_type": "display_data"
    }
   ],
   "source": [
    "plt.figure(figsize = (12, 6))\n",
    "\n",
    "train_df.loc[train_df['KitchenSquare'] < 17, 'KitchenSquare'].hist(bins=30)\n",
    "plt.ylabel('count')\n",
    "plt.xlabel('KitchenSquare')\n",
    "\n",
    "plt.title('Distribution of KitchenSquare')\n",
    "plt.show()"
   ]
  },
  {
   "cell_type": "code",
   "execution_count": 128,
   "metadata": {},
   "outputs": [
    {
     "data": {
      "image/png": "[encoded data removed]",
      "text/plain": [
       "<Figure size 864x432 with 1 Axes>"
      ]
     },
     "metadata": {
      "needs_background": "light"
     },
     "output_type": "display_data"
    }
   ],
   "source": [
    "plt.figure(figsize = (12, 6))\n",
    "\n",
    "test_df.loc[test_df['KitchenSquare'] < 17, 'KitchenSquare'].hist(bins=30)\n",
    "plt.ylabel('count')\n",
    "plt.xlabel('KitchenSquare')\n",
    "\n",
    "plt.title('Distribution of KitchenSquare')\n",
    "plt.show()"
   ]
  },
  {
   "cell_type": "code",
   "execution_count": 129,
   "metadata": {},
   "outputs": [],
   "source": [
    "train_df.loc[train_df['KitchenSquare'] <= 1, 'KitchenSquare'] = train_df['Square'] * median_k_sq_train\n",
    "test_df.loc[test_df['KitchenSquare'] <= 1, 'KitchenSquare'] = test_df['Square'] * median_k_sq_test"
   ]
  },
  {
   "cell_type": "markdown",
   "metadata": {},
   "source": [
    "Исправляем количество комнат у маленьких квартир"
   ]
  },
  {
   "cell_type": "code",
   "execution_count": 130,
   "metadata": {},
   "outputs": [],
   "source": [
    "train_df.loc[(train_df['Square'] < 10) & (train_df['Rooms'] > 1), 'Rooms'] = 1\n",
    "test_df.loc[(test_df['Square'] < 10) & (test_df['Rooms'] > 1), 'Rooms'] = 1"
   ]
  },
  {
   "cell_type": "markdown",
   "metadata": {},
   "source": [
    "##### Очищаем данные по этажам"
   ]
  },
  {
   "cell_type": "code",
   "execution_count": 131,
   "metadata": {},
   "outputs": [
    {
     "data": {
      "text/plain": [
       "(1819, 19)"
      ]
     },
     "execution_count": 131,
     "metadata": {},
     "output_type": "execute_result"
    }
   ],
   "source": [
    "train_df.loc[(train_df['HouseFloor'] == 0) | (train_df['HouseFloor'] < train_df['Floor'])].shape"
   ]
  },
  {
   "cell_type": "code",
   "execution_count": 132,
   "metadata": {},
   "outputs": [
    {
     "data": {
      "text/plain": [
       "(884, 18)"
      ]
     },
     "execution_count": 132,
     "metadata": {},
     "output_type": "execute_result"
    }
   ],
   "source": [
    "test_df.loc[(test_df['HouseFloor'] == 0) | (test_df['HouseFloor'] < test_df['Floor'])].shape"
   ]
  },
  {
   "cell_type": "markdown",
   "metadata": {},
   "source": [
    "Более 1800 некорректных значений в обучающем датасете и почти 900 в тестовом"
   ]
  },
  {
   "cell_type": "markdown",
   "metadata": {},
   "source": [
    "Заполняем 0-е и более 98 значения этажности дома модой"
   ]
  },
  {
   "cell_type": "code",
   "execution_count": 133,
   "metadata": {},
   "outputs": [],
   "source": [
    "train_df.loc[train_df['HouseFloor'] == 0, 'HouseFloor'] = train_df['HouseFloor'].mode()[0]\n",
    "test_df.loc[test_df['HouseFloor'] == 0, 'HouseFloor'] = train_df['HouseFloor'].mode()[0]\n",
    "\n",
    "train_df.loc[train_df['HouseFloor'] > 98, 'HouseFloor'] = train_df['HouseFloor'].mode()[0]\n",
    "test_df.loc[test_df['HouseFloor'] > 98, 'HouseFloor'] = train_df['HouseFloor'].mode()[0]"
   ]
  },
  {
   "cell_type": "markdown",
   "metadata": {},
   "source": [
    "Меняем значения этажей для строк, где этаж квартиры больше указанной этажности дома"
   ]
  },
  {
   "cell_type": "code",
   "execution_count": 134,
   "metadata": {},
   "outputs": [
    {
     "data": {
      "text/html": [
       "<div>\n",
       "<style scoped>\n",
       "    .dataframe tbody tr th:only-of-type {\n",
       "        vertical-align: middle;\n",
       "    }\n",
       "\n",
       "    .dataframe tbody tr th {\n",
       "        vertical-align: top;\n",
       "    }\n",
       "\n",
       "    .dataframe thead th {\n",
       "        text-align: right;\n",
       "    }\n",
       "</style>\n",
       "<table border=\"1\" class=\"dataframe\">\n",
       "  <thead>\n",
       "    <tr style=\"text-align: right;\">\n",
       "      <th></th>\n",
       "      <th>DistrictId</th>\n",
       "      <th>Rooms</th>\n",
       "      <th>Square</th>\n",
       "      <th>LifeSquare</th>\n",
       "      <th>KitchenSquare</th>\n",
       "      <th>Floor</th>\n",
       "      <th>HouseFloor</th>\n",
       "      <th>HouseYear</th>\n",
       "      <th>Ecology_1</th>\n",
       "      <th>Ecology_2</th>\n",
       "      <th>Ecology_3</th>\n",
       "      <th>Social_1</th>\n",
       "      <th>Social_2</th>\n",
       "      <th>Social_3</th>\n",
       "      <th>Healthcare_1</th>\n",
       "      <th>Helthcare_2</th>\n",
       "      <th>Shops_1</th>\n",
       "      <th>Shops_2</th>\n",
       "      <th>Price</th>\n",
       "    </tr>\n",
       "    <tr>\n",
       "      <th>Id</th>\n",
       "      <th></th>\n",
       "      <th></th>\n",
       "      <th></th>\n",
       "      <th></th>\n",
       "      <th></th>\n",
       "      <th></th>\n",
       "      <th></th>\n",
       "      <th></th>\n",
       "      <th></th>\n",
       "      <th></th>\n",
       "      <th></th>\n",
       "      <th></th>\n",
       "      <th></th>\n",
       "      <th></th>\n",
       "      <th></th>\n",
       "      <th></th>\n",
       "      <th></th>\n",
       "      <th></th>\n",
       "      <th></th>\n",
       "    </tr>\n",
       "  </thead>\n",
       "  <tbody>\n",
       "  </tbody>\n",
       "</table>\n",
       "</div>"
      ],
      "text/plain": [
       "Empty DataFrame\n",
       "Columns: [DistrictId, Rooms, Square, LifeSquare, KitchenSquare, Floor, HouseFloor, HouseYear, Ecology_1, Ecology_2, Ecology_3, Social_1, Social_2, Social_3, Healthcare_1, Helthcare_2, Shops_1, Shops_2, Price]\n",
       "Index: []"
      ]
     },
     "execution_count": 134,
     "metadata": {},
     "output_type": "execute_result"
    }
   ],
   "source": [
    "floor_outliers_train = train_df.loc[train_df['Floor'] > train_df['HouseFloor']].index\n",
    "floor_outliers_test = test_df.loc[test_df['Floor'] > test_df['HouseFloor']].index\n",
    "\n",
    "train_df.loc[floor_outliers_train, 'Floor'] = \\\n",
    "    train_df.loc[floor_outliers_train, 'HouseFloor'].apply(lambda x: random.randint(1, x))\n",
    "test_df.loc[floor_outliers_test, 'Floor'] = \\\n",
    "    test_df.loc[floor_outliers_test, 'HouseFloor'].apply(lambda x: random.randint(1, x))\n",
    "\n",
    "train_df.loc[train_df['Floor'] > train_df['HouseFloor']]"
   ]
  },
  {
   "cell_type": "markdown",
   "metadata": {},
   "source": [
    "#### Построение новых признаков"
   ]
  },
  {
   "cell_type": "markdown",
   "metadata": {},
   "source": [
    "House_age_cat - категории домов по году постройки"
   ]
  },
  {
   "cell_type": "code",
   "execution_count": 135,
   "metadata": {},
   "outputs": [],
   "source": [
    "def house_age_cat(X):\n",
    "\n",
    "    X['House_age_cat'] = 0\n",
    "\n",
    "    X.loc[2020 - X['HouseYear'] <= 5, 'House_age_cat'] = 1  \n",
    "    X.loc[(2020 - X['HouseYear'] > 5) & (2020 - X['HouseYear'] <= 10), 'House_age_cat'] = 2\n",
    "    X.loc[(2020 - X['HouseYear'] > 10) & (2020 - X['HouseYear'] <= 25), 'House_age_cat'] = 3\n",
    "    X.loc[2020 - X['HouseYear'] > 25, 'House_age_cat'] = 4\n",
    "\n",
    "    return X"
   ]
  },
  {
   "cell_type": "code",
   "execution_count": 136,
   "metadata": {},
   "outputs": [],
   "source": [
    "train_df = house_age_cat(train_df)\n",
    "test_df = house_age_cat(test_df)"
   ]
  },
  {
   "cell_type": "markdown",
   "metadata": {},
   "source": [
    "Square_m_price - показатель стоимости 1 м^2 для отсева выбросов, перед обучением его удалим из датафрейма"
   ]
  },
  {
   "cell_type": "code",
   "execution_count": 137,
   "metadata": {},
   "outputs": [],
   "source": [
    "train_df['Square_m_price'] = train_df['Price'] / train_df['Square']"
   ]
  },
  {
   "cell_type": "markdown",
   "metadata": {},
   "source": [
    "Price_m_by_district - Стоимость метра квадратного жилья в зависимости от района"
   ]
  },
  {
   "cell_type": "code",
   "execution_count": 138,
   "metadata": {},
   "outputs": [],
   "source": [
    "price_by_district = train_df.groupby(['DistrictId'], as_index=False)\\\n",
    "                        .agg({'Square_m_price':'median'})\\\n",
    "                        .rename(columns={'Square_m_price':'Price_m_by_district'})\n",
    "\n",
    "train_df = train_df.merge(price_by_district, on=['DistrictId'], how='left').set_index(train_df.index)\n",
    "test_df = test_df.merge(price_by_district, on=['DistrictId'], how='left').set_index(test_df.index)"
   ]
  },
  {
   "cell_type": "code",
   "execution_count": 139,
   "metadata": {},
   "outputs": [
    {
     "name": "stdout",
     "output_type": "stream",
     "text": [
      "(195,) (205,)\n"
     ]
    }
   ],
   "source": [
    "print(test_df['Price_m_by_district'].unique().shape, train_df['Price_m_by_district'].unique().shape)"
   ]
  },
  {
   "cell_type": "markdown",
   "metadata": {},
   "source": [
    "На тестовом датасете на 10 районов меньше, проверяем пропуски"
   ]
  },
  {
   "cell_type": "code",
   "execution_count": 140,
   "metadata": {},
   "outputs": [
    {
     "name": "stdout",
     "output_type": "stream",
     "text": [
      "<class 'pandas.core.frame.DataFrame'>\n",
      "Int64Index: 5000 entries, 725 to 12504\n",
      "Data columns (total 20 columns):\n",
      " #   Column               Non-Null Count  Dtype  \n",
      "---  ------               --------------  -----  \n",
      " 0   DistrictId           5000 non-null   int16  \n",
      " 1   Rooms                5000 non-null   float32\n",
      " 2   Square               5000 non-null   float32\n",
      " 3   LifeSquare           5000 non-null   float32\n",
      " 4   KitchenSquare        5000 non-null   float32\n",
      " 5   Floor                5000 non-null   int64  \n",
      " 6   HouseFloor           5000 non-null   float32\n",
      " 7   HouseYear            5000 non-null   int16  \n",
      " 8   Ecology_1            5000 non-null   float32\n",
      " 9   Ecology_2            5000 non-null   int64  \n",
      " 10  Ecology_3            5000 non-null   int64  \n",
      " 11  Social_1             5000 non-null   int8   \n",
      " 12  Social_2             5000 non-null   int16  \n",
      " 13  Social_3             5000 non-null   float64\n",
      " 14  Healthcare_1         5000 non-null   float32\n",
      " 15  Helthcare_2          5000 non-null   int8   \n",
      " 16  Shops_1              5000 non-null   int8   \n",
      " 17  Shops_2              5000 non-null   int64  \n",
      " 18  House_age_cat        5000 non-null   int64  \n",
      " 19  Price_m_by_district  4992 non-null   float32\n",
      "dtypes: float32(8), float64(1), int16(3), int64(5), int8(3)\n",
      "memory usage: 473.6 KB\n"
     ]
    }
   ],
   "source": [
    "test_df.info()"
   ]
  },
  {
   "cell_type": "markdown",
   "metadata": {},
   "source": [
    "Убираем пропуски из тестового датасета"
   ]
  },
  {
   "cell_type": "code",
   "execution_count": 141,
   "metadata": {},
   "outputs": [],
   "source": [
    "test_df.loc[(test_df['Price_m_by_district'].isna()), 'Price_m_by_district'] = test_df['Price_m_by_district'].median()"
   ]
  },
  {
   "cell_type": "markdown",
   "metadata": {},
   "source": [
    "Удаляем квартиры со стоимостью более 9300 за м^2"
   ]
  },
  {
   "cell_type": "code",
   "execution_count": 142,
   "metadata": {},
   "outputs": [],
   "source": [
    "train_df = train_df.drop(train_df[train_df['Square_m_price'] > 9300].index)"
   ]
  },
  {
   "cell_type": "markdown",
   "metadata": {},
   "source": [
    "Room_square_m - добавляем показатель среднего метража комнат"
   ]
  },
  {
   "cell_type": "code",
   "execution_count": 143,
   "metadata": {},
   "outputs": [],
   "source": [
    "train_df['Room_square_m'] = train_df['LifeSquare'] / train_df['Rooms']\n",
    "test_df['Room_square_m'] = test_df['LifeSquare'] / test_df['Rooms']"
   ]
  },
  {
   "cell_type": "markdown",
   "metadata": {},
   "source": [
    "Заполняем 0-е количество комнат значением жилой площади деленным на медианное значение прощади комнаты"
   ]
  },
  {
   "cell_type": "code",
   "execution_count": 144,
   "metadata": {},
   "outputs": [],
   "source": [
    "train_df.loc[train_df['Rooms'] == 0, 'Rooms'] = round(train_df['LifeSquare'] / train_df['Room_square_m'].median())\n",
    "test_df.loc[test_df['Rooms'] == 0, 'Rooms'] = round(test_df['LifeSquare'] / test_df['Room_square_m'].median())"
   ]
  },
  {
   "cell_type": "markdown",
   "metadata": {},
   "source": [
    "Перезаполняем средний метраж комнат, значения которого = \"inf\""
   ]
  },
  {
   "cell_type": "code",
   "execution_count": 145,
   "metadata": {},
   "outputs": [
    {
     "data": {
      "text/plain": [
       "122.57893371582031"
      ]
     },
     "execution_count": 145,
     "metadata": {},
     "output_type": "execute_result"
    }
   ],
   "source": [
    "train_df.loc[train_df['Room_square_m'] == float('inf'), 'Room_square_m'] = train_df['LifeSquare'] / train_df['Rooms']\n",
    "test_df.loc[test_df['Room_square_m'] == float('inf'), 'Room_square_m'] = test_df['LifeSquare'] / test_df['Rooms']\n",
    "test_df['Room_square_m'].max()"
   ]
  },
  {
   "cell_type": "code",
   "execution_count": 146,
   "metadata": {},
   "outputs": [
    {
     "data": {
      "image/png": "[encoded data removed]",
      "text/plain": [
       "<Figure size 432x216 with 1 Axes>"
      ]
     },
     "metadata": {
      "needs_background": "light"
     },
     "output_type": "display_data"
    }
   ],
   "source": [
    "plt.figure(figsize=(6, 3))\n",
    "\n",
    "sns.boxplot(train_df['Room_square_m'], whis=1.5)\n",
    "\n",
    "plt.xlabel('Room_square_m')\n",
    "plt.show()"
   ]
  },
  {
   "cell_type": "markdown",
   "metadata": {},
   "source": [
    "Удаляем отклонения в среднем размере комнат"
   ]
  },
  {
   "cell_type": "code",
   "execution_count": 147,
   "metadata": {},
   "outputs": [],
   "source": [
    "train_df = train_df.drop(train_df[train_df['Room_square_m'] > 124].index)"
   ]
  },
  {
   "cell_type": "markdown",
   "metadata": {},
   "source": [
    "Floor_cat - Категория этажа квартиры"
   ]
  },
  {
   "cell_type": "code",
   "execution_count": 148,
   "metadata": {},
   "outputs": [
    {
     "data": {
      "image/png": "[encoded data removed]",
      "text/plain": [
       "<Figure size 1152x432 with 1 Axes>"
      ]
     },
     "metadata": {},
     "output_type": "display_data"
    }
   ],
   "source": [
    "sns.set(style=\"whitegrid\", font_scale=1.5)\n",
    "\n",
    "f, ax = plt.subplots(figsize=(16, 6))\n",
    "sns.barplot(y=train_df['Floor'].value_counts(), x=train_df['Floor'].value_counts().index);"
   ]
  },
  {
   "cell_type": "code",
   "execution_count": 149,
   "metadata": {},
   "outputs": [],
   "source": [
    "train_df['Floor_cat'] = 0\n",
    "train_df.loc[train_df['Floor'] <= 1, 'Floor_cat'] = 1\n",
    "train_df.loc[(train_df['Floor'] == train_df['HouseFloor']) & (train_df['Square'] < 80), 'Floor_cat'] = 1  \n",
    "train_df.loc[(train_df['Floor'] > 1) & (train_df['Floor'] <= 3), 'Floor_cat'] = 1\n",
    "train_df.loc[(train_df['Floor'] > 3) & (train_df['Floor'] < train_df['HouseFloor']), 'Floor_cat'] = 2\n",
    "train_df.loc[(train_df['Floor'] == train_df['HouseFloor']) & (train_df['Square'] > 80), 'Floor_cat'] = 3\n",
    "\n",
    "test_df['Floor_cat'] = 0\n",
    "test_df.loc[test_df['Floor'] <= 1, 'Floor_cat'] = 1\n",
    "test_df.loc[(test_df['Floor'] == test_df['HouseFloor']) & (test_df['Square'] < 80), 'Floor_cat'] = 1\n",
    "test_df.loc[(test_df['Floor'] > 1) & (test_df['Floor'] <= 3), 'Floor_cat'] = 1\n",
    "test_df.loc[(test_df['Floor'] > 3) & (test_df['Floor'] < test_df['HouseFloor']), 'Floor_cat'] = 2\n",
    "test_df.loc[(test_df['Floor'] == test_df['HouseFloor']) & (test_df['Square'] > 80), 'Floor_cat'] = 3"
   ]
  },
  {
   "cell_type": "code",
   "execution_count": 150,
   "metadata": {},
   "outputs": [
    {
     "data": {
      "image/png": "[encoded data removed]",
      "text/plain": [
       "<Figure size 600x360 with 1 Axes>"
      ]
     },
     "metadata": {},
     "output_type": "display_data"
    }
   ],
   "source": [
    "sns.catplot(\"Floor_cat\", \"Price\", kind=\"box\", data=train_df, aspect=5/3);"
   ]
  },
  {
   "cell_type": "markdown",
   "metadata": {},
   "source": [
    "HouseFloor_cat - Категория этажности здания"
   ]
  },
  {
   "cell_type": "code",
   "execution_count": 151,
   "metadata": {},
   "outputs": [
    {
     "data": {
      "image/png": "[encoded data removed]",
      "text/plain": [
       "<Figure size 1152x432 with 1 Axes>"
      ]
     },
     "metadata": {},
     "output_type": "display_data"
    }
   ],
   "source": [
    "sns.set(style=\"whitegrid\", font_scale=1.5)\n",
    "\n",
    "f, ax = plt.subplots(figsize=(16, 6))\n",
    "sns.barplot(y=train_df['HouseFloor'].value_counts(), \n",
    "            x=train_df['HouseFloor'].value_counts().index,\n",
    "           )\n",
    "ax.tick_params(axis='x', rotation=90);"
   ]
  },
  {
   "cell_type": "code",
   "execution_count": 152,
   "metadata": {},
   "outputs": [],
   "source": [
    "train_df['HouseFloor_cat'] = 0\n",
    "train_df.loc[train_df['HouseFloor'] <= 5, 'HouseFloor_cat'] = 1  \n",
    "train_df.loc[(train_df['HouseFloor'] > 5) & (train_df['HouseFloor'] <= 12), 'HouseFloor_cat'] = 2\n",
    "train_df.loc[(train_df['HouseFloor'] > 12) & (train_df['HouseFloor'] <= 17), 'HouseFloor_cat'] = 3\n",
    "train_df.loc[train_df['HouseFloor'] > 17, 'HouseFloor_cat'] = 4\n",
    "\n",
    "test_df['HouseFloor_cat'] = 0\n",
    "test_df.loc[test_df['HouseFloor'] <= 5, 'HouseFloor_cat'] = 1  \n",
    "test_df.loc[(test_df['HouseFloor'] > 5) & (test_df['HouseFloor'] <= 12), 'HouseFloor_cat'] = 2\n",
    "test_df.loc[(test_df['HouseFloor'] > 12) & (test_df['HouseFloor'] <= 17), 'HouseFloor_cat'] = 3\n",
    "test_df.loc[test_df['HouseFloor'] > 17, 'HouseFloor_cat'] = 4"
   ]
  },
  {
   "cell_type": "code",
   "execution_count": 153,
   "metadata": {},
   "outputs": [
    {
     "data": {
      "image/png": "[encoded data removed]",
      "text/plain": [
       "<Figure size 450x360 with 1 Axes>"
      ]
     },
     "metadata": {},
     "output_type": "display_data"
    }
   ],
   "source": [
    "sns.catplot(\"HouseFloor_cat\", \"Price\", kind=\"box\", data=train_df, aspect=5/4);"
   ]
  },
  {
   "cell_type": "code",
   "execution_count": 154,
   "metadata": {},
   "outputs": [],
   "source": [
    "train_df[['Floor_cat', 'HouseFloor_cat']] = train_df[['Floor_cat', 'HouseFloor_cat']].astype(int)\n",
    "test_df[['Floor_cat', 'HouseFloor_cat']] = test_df[['Floor_cat', 'HouseFloor_cat']].astype(int)"
   ]
  },
  {
   "cell_type": "markdown",
   "metadata": {},
   "source": [
    "Flat_kitchen_cat - Категория квартиры, в зависимости от площади ее кухни"
   ]
  },
  {
   "cell_type": "code",
   "execution_count": 155,
   "metadata": {},
   "outputs": [
    {
     "data": {
      "image/png": "[encoded data removed]",
      "text/plain": [
       "<Figure size 864x432 with 1 Axes>"
      ]
     },
     "metadata": {},
     "output_type": "display_data"
    }
   ],
   "source": [
    "plt.figure(figsize = (12, 6))\n",
    "\n",
    "train_df.loc[train_df['KitchenSquare'] < 17, 'KitchenSquare'].hist(bins=30)\n",
    "plt.ylabel('count')\n",
    "plt.xlabel('KitchenSquare')\n",
    "\n",
    "plt.title('Distribution of KitchenSquare')\n",
    "plt.show()"
   ]
  },
  {
   "cell_type": "code",
   "execution_count": 156,
   "metadata": {},
   "outputs": [],
   "source": [
    "train_df['Flat_kitchen_cat'] = 0\n",
    "train_df.loc[train_df['KitchenSquare'] < 6, 'Flat_kitchen_cat'] = 1  \n",
    "train_df.loc[(train_df['KitchenSquare'] >= 6) & (train_df['KitchenSquare'] < 8.5), 'Flat_kitchen_cat'] = 2\n",
    "train_df.loc[(train_df['KitchenSquare'] >= 8.5) & (train_df['KitchenSquare'] < 11), 'Flat_kitchen_cat'] = 3\n",
    "train_df.loc[train_df['KitchenSquare'] >= 11, 'Flat_kitchen_cat'] = 4\n",
    "\n",
    "test_df['Flat_kitchen_cat'] = 0\n",
    "test_df.loc[test_df['KitchenSquare'] < 6, 'Flat_kitchen_cat'] = 1  \n",
    "test_df.loc[(test_df['KitchenSquare'] >=6 ) & (test_df['KitchenSquare'] < 8.5), 'Flat_kitchen_cat'] = 2\n",
    "test_df.loc[(test_df['KitchenSquare'] >= 8.5) & (test_df['KitchenSquare'] < 11), 'Flat_kitchen_cat'] = 3\n",
    "test_df.loc[test_df['KitchenSquare'] >= 11, 'Flat_kitchen_cat'] = 4"
   ]
  },
  {
   "cell_type": "code",
   "execution_count": 157,
   "metadata": {},
   "outputs": [
    {
     "data": {
      "image/png": "[encoded data removed]",
      "text/plain": [
       "<Figure size 450x360 with 1 Axes>"
      ]
     },
     "metadata": {},
     "output_type": "display_data"
    }
   ],
   "source": [
    "sns.catplot(\"Flat_kitchen_cat\", \"Price\", kind=\"box\", data=train_df, aspect=5/4);"
   ]
  },
  {
   "cell_type": "markdown",
   "metadata": {},
   "source": [
    "Price_square_m_floor_cat - Цена м^2 жилья по району в зависимости от категории этажа"
   ]
  },
  {
   "cell_type": "code",
   "execution_count": 158,
   "metadata": {},
   "outputs": [],
   "source": [
    "price_square_m_floor_cat  = train_df.groupby(['DistrictId', 'Floor_cat'])\\\n",
    "                        .agg({'Square_m_price':'median'})\\\n",
    "                        .rename(columns={'Square_m_price':'Price_square_m_floor_cat'})\n",
    "\n",
    "train_df = train_df.merge(price_square_m_floor_cat, on=['DistrictId', 'Floor_cat'], how='left').set_index(train_df.index)\n",
    "test_df = test_df.merge(price_square_m_floor_cat, on=['DistrictId', 'Floor_cat'], how='left').set_index(test_df.index)"
   ]
  },
  {
   "cell_type": "code",
   "execution_count": 159,
   "metadata": {},
   "outputs": [
    {
     "name": "stdout",
     "output_type": "stream",
     "text": [
      "<class 'pandas.core.frame.DataFrame'>\n",
      "Int64Index: 5000 entries, 725 to 12504\n",
      "Data columns (total 25 columns):\n",
      " #   Column                    Non-Null Count  Dtype  \n",
      "---  ------                    --------------  -----  \n",
      " 0   DistrictId                5000 non-null   int16  \n",
      " 1   Rooms                     5000 non-null   float32\n",
      " 2   Square                    5000 non-null   float32\n",
      " 3   LifeSquare                5000 non-null   float32\n",
      " 4   KitchenSquare             5000 non-null   float32\n",
      " 5   Floor                     5000 non-null   int64  \n",
      " 6   HouseFloor                5000 non-null   float32\n",
      " 7   HouseYear                 5000 non-null   int16  \n",
      " 8   Ecology_1                 5000 non-null   float32\n",
      " 9   Ecology_2                 5000 non-null   int64  \n",
      " 10  Ecology_3                 5000 non-null   int64  \n",
      " 11  Social_1                  5000 non-null   int8   \n",
      " 12  Social_2                  5000 non-null   int16  \n",
      " 13  Social_3                  5000 non-null   float64\n",
      " 14  Healthcare_1              5000 non-null   float32\n",
      " 15  Helthcare_2               5000 non-null   int8   \n",
      " 16  Shops_1                   5000 non-null   int8   \n",
      " 17  Shops_2                   5000 non-null   int64  \n",
      " 18  House_age_cat             5000 non-null   int64  \n",
      " 19  Price_m_by_district       5000 non-null   float32\n",
      " 20  Room_square_m             5000 non-null   float32\n",
      " 21  Floor_cat                 5000 non-null   int32  \n",
      " 22  HouseFloor_cat            5000 non-null   int32  \n",
      " 23  Flat_kitchen_cat          5000 non-null   int64  \n",
      " 24  Price_square_m_floor_cat  4971 non-null   float32\n",
      "dtypes: float32(10), float64(1), int16(3), int32(2), int64(6), int8(3)\n",
      "memory usage: 590.8 KB\n"
     ]
    }
   ],
   "source": [
    "test_df.info()"
   ]
  },
  {
   "cell_type": "markdown",
   "metadata": {},
   "source": [
    "Убираем пропуски из тестового датасета"
   ]
  },
  {
   "cell_type": "code",
   "execution_count": 160,
   "metadata": {},
   "outputs": [],
   "source": [
    "test_df.loc[(test_df['Price_square_m_floor_cat'].isna()), 'Price_square_m_floor_cat'] = test_df['Price_m_by_district']"
   ]
  },
  {
   "cell_type": "markdown",
   "metadata": {},
   "source": [
    "#### Строим матрицу корреляций"
   ]
  },
  {
   "cell_type": "code",
   "execution_count": 161,
   "metadata": {
    "scrolled": true
   },
   "outputs": [
    {
     "data": {
      "image/png": "[encoded data removed]",
      "text/plain": [
       "<Figure size 1080x720 with 2 Axes>"
      ]
     },
     "metadata": {},
     "output_type": "display_data"
    }
   ],
   "source": [
    "plt.figure(figsize = (15,10))\n",
    "\n",
    "sns.set(font_scale=1)\n",
    "\n",
    "corr_matrix = train_df.corr()\n",
    "corr_matrix = np.round(corr_matrix, 2)\n",
    "corr_matrix[(np.abs(corr_matrix) < 0.4) | (np.abs(corr_matrix) == 1)] = 0\n",
    "\n",
    "sns.heatmap(corr_matrix, annot=True, linewidths=.5, cmap='coolwarm')\n",
    "\n",
    "plt.title('Correlation matrix')\n",
    "plt.show()"
   ]
  },
  {
   "cell_type": "markdown",
   "metadata": {},
   "source": [
    "### Отбор признаков и подготовка модели"
   ]
  },
  {
   "cell_type": "code",
   "execution_count": 162,
   "metadata": {},
   "outputs": [
    {
     "data": {
      "text/plain": [
       "['DistrictId',\n",
       " 'Rooms',\n",
       " 'Square',\n",
       " 'LifeSquare',\n",
       " 'KitchenSquare',\n",
       " 'Floor',\n",
       " 'HouseFloor',\n",
       " 'HouseYear',\n",
       " 'Ecology_1',\n",
       " 'Ecology_2',\n",
       " 'Ecology_3',\n",
       " 'Social_1',\n",
       " 'Social_2',\n",
       " 'Social_3',\n",
       " 'Healthcare_1',\n",
       " 'Helthcare_2',\n",
       " 'Shops_1',\n",
       " 'Shops_2',\n",
       " 'Price',\n",
       " 'House_age_cat',\n",
       " 'Square_m_price',\n",
       " 'Price_m_by_district',\n",
       " 'Room_square_m',\n",
       " 'Floor_cat',\n",
       " 'HouseFloor_cat',\n",
       " 'Flat_kitchen_cat',\n",
       " 'Price_square_m_floor_cat']"
      ]
     },
     "execution_count": 162,
     "metadata": {},
     "output_type": "execute_result"
    }
   ],
   "source": [
    "list(train_df)"
   ]
  },
  {
   "cell_type": "code",
   "execution_count": 163,
   "metadata": {},
   "outputs": [],
   "source": [
    "target_name = ['Price']\n",
    "feature_names = ['DistrictId',\n",
    " 'Rooms',\n",
    " 'Square',\n",
    " #'LifeSquare',\n",
    " 'KitchenSquare',\n",
    " 'Floor',\n",
    " 'HouseFloor',\n",
    " 'HouseYear',\n",
    " 'Ecology_1',\n",
    " 'Ecology_2',\n",
    " #'Ecology_3',\n",
    " 'Social_1',\n",
    " #'Social_2',\n",
    " #'Social_3',\n",
    " #'Healthcare_1',\n",
    " #'Helthcare_2',\n",
    " 'Shops_1',\n",
    " #'Shops_2',\n",
    " #'Price',\n",
    " 'House_age_cat',\n",
    " #'Square_m_price',\n",
    " 'Price_m_by_district',\n",
    " 'Room_square_m',\n",
    " 'Floor_cat',\n",
    " #'HouseFloor_cat',\n",
    " #'Flat_kitchen_cat',\n",
    " 'Price_square_m_floor_cat']"
   ]
  },
  {
   "cell_type": "code",
   "execution_count": 164,
   "metadata": {},
   "outputs": [
    {
     "data": {
      "text/html": [
       "<div>\n",
       "<style scoped>\n",
       "    .dataframe tbody tr th:only-of-type {\n",
       "        vertical-align: middle;\n",
       "    }\n",
       "\n",
       "    .dataframe tbody tr th {\n",
       "        vertical-align: top;\n",
       "    }\n",
       "\n",
       "    .dataframe thead th {\n",
       "        text-align: right;\n",
       "    }\n",
       "</style>\n",
       "<table border=\"1\" class=\"dataframe\">\n",
       "  <thead>\n",
       "    <tr style=\"text-align: right;\">\n",
       "      <th></th>\n",
       "      <th>DistrictId</th>\n",
       "      <th>Rooms</th>\n",
       "      <th>Square</th>\n",
       "      <th>KitchenSquare</th>\n",
       "      <th>Floor</th>\n",
       "      <th>HouseFloor</th>\n",
       "      <th>HouseYear</th>\n",
       "      <th>Ecology_1</th>\n",
       "      <th>Ecology_2</th>\n",
       "      <th>Social_1</th>\n",
       "      <th>Shops_1</th>\n",
       "      <th>House_age_cat</th>\n",
       "      <th>Price_m_by_district</th>\n",
       "      <th>Room_square_m</th>\n",
       "      <th>Floor_cat</th>\n",
       "      <th>Price_square_m_floor_cat</th>\n",
       "    </tr>\n",
       "    <tr>\n",
       "      <th>Id</th>\n",
       "      <th></th>\n",
       "      <th></th>\n",
       "      <th></th>\n",
       "      <th></th>\n",
       "      <th></th>\n",
       "      <th></th>\n",
       "      <th></th>\n",
       "      <th></th>\n",
       "      <th></th>\n",
       "      <th></th>\n",
       "      <th></th>\n",
       "      <th></th>\n",
       "      <th></th>\n",
       "      <th></th>\n",
       "      <th></th>\n",
       "      <th></th>\n",
       "    </tr>\n",
       "  </thead>\n",
       "  <tbody>\n",
       "    <tr>\n",
       "      <th>14038</th>\n",
       "      <td>35</td>\n",
       "      <td>2.0</td>\n",
       "      <td>47.981560</td>\n",
       "      <td>6.000000</td>\n",
       "      <td>7</td>\n",
       "      <td>9.0</td>\n",
       "      <td>1969</td>\n",
       "      <td>0.089040</td>\n",
       "      <td>1</td>\n",
       "      <td>33</td>\n",
       "      <td>11</td>\n",
       "      <td>4</td>\n",
       "      <td>4358.274902</td>\n",
       "      <td>14.721375</td>\n",
       "      <td>2</td>\n",
       "      <td>4541.385742</td>\n",
       "    </tr>\n",
       "    <tr>\n",
       "      <th>15053</th>\n",
       "      <td>41</td>\n",
       "      <td>3.0</td>\n",
       "      <td>65.683640</td>\n",
       "      <td>8.000000</td>\n",
       "      <td>7</td>\n",
       "      <td>9.0</td>\n",
       "      <td>1978</td>\n",
       "      <td>0.000070</td>\n",
       "      <td>1</td>\n",
       "      <td>46</td>\n",
       "      <td>16</td>\n",
       "      <td>4</td>\n",
       "      <td>4437.304199</td>\n",
       "      <td>13.349847</td>\n",
       "      <td>2</td>\n",
       "      <td>4473.328125</td>\n",
       "    </tr>\n",
       "    <tr>\n",
       "      <th>4765</th>\n",
       "      <td>53</td>\n",
       "      <td>2.0</td>\n",
       "      <td>44.947952</td>\n",
       "      <td>5.135607</td>\n",
       "      <td>8</td>\n",
       "      <td>12.0</td>\n",
       "      <td>1968</td>\n",
       "      <td>0.049637</td>\n",
       "      <td>1</td>\n",
       "      <td>34</td>\n",
       "      <td>3</td>\n",
       "      <td>4</td>\n",
       "      <td>4845.918945</td>\n",
       "      <td>14.598805</td>\n",
       "      <td>2</td>\n",
       "      <td>4820.189941</td>\n",
       "    </tr>\n",
       "    <tr>\n",
       "      <th>5809</th>\n",
       "      <td>58</td>\n",
       "      <td>2.0</td>\n",
       "      <td>53.352982</td>\n",
       "      <td>9.000000</td>\n",
       "      <td>8</td>\n",
       "      <td>17.0</td>\n",
       "      <td>1977</td>\n",
       "      <td>0.437885</td>\n",
       "      <td>1</td>\n",
       "      <td>23</td>\n",
       "      <td>5</td>\n",
       "      <td>4</td>\n",
       "      <td>2949.975342</td>\n",
       "      <td>26.365755</td>\n",
       "      <td>2</td>\n",
       "      <td>3154.331787</td>\n",
       "    </tr>\n",
       "    <tr>\n",
       "      <th>10783</th>\n",
       "      <td>99</td>\n",
       "      <td>1.0</td>\n",
       "      <td>39.649193</td>\n",
       "      <td>7.000000</td>\n",
       "      <td>11</td>\n",
       "      <td>12.0</td>\n",
       "      <td>1976</td>\n",
       "      <td>0.012339</td>\n",
       "      <td>1</td>\n",
       "      <td>35</td>\n",
       "      <td>4</td>\n",
       "      <td>4</td>\n",
       "      <td>3992.031250</td>\n",
       "      <td>23.776169</td>\n",
       "      <td>2</td>\n",
       "      <td>4126.694336</td>\n",
       "    </tr>\n",
       "  </tbody>\n",
       "</table>\n",
       "</div>"
      ],
      "text/plain": [
       "       DistrictId  Rooms     Square  KitchenSquare  Floor  HouseFloor  \\\n",
       "Id                                                                      \n",
       "14038          35    2.0  47.981560       6.000000      7         9.0   \n",
       "15053          41    3.0  65.683640       8.000000      7         9.0   \n",
       "4765           53    2.0  44.947952       5.135607      8        12.0   \n",
       "5809           58    2.0  53.352982       9.000000      8        17.0   \n",
       "10783          99    1.0  39.649193       7.000000     11        12.0   \n",
       "\n",
       "       HouseYear  Ecology_1  Ecology_2  Social_1  Shops_1  House_age_cat  \\\n",
       "Id                                                                         \n",
       "14038       1969   0.089040          1        33       11              4   \n",
       "15053       1978   0.000070          1        46       16              4   \n",
       "4765        1968   0.049637          1        34        3              4   \n",
       "5809        1977   0.437885          1        23        5              4   \n",
       "10783       1976   0.012339          1        35        4              4   \n",
       "\n",
       "       Price_m_by_district  Room_square_m  Floor_cat  Price_square_m_floor_cat  \n",
       "Id                                                                              \n",
       "14038          4358.274902      14.721375          2               4541.385742  \n",
       "15053          4437.304199      13.349847          2               4473.328125  \n",
       "4765           4845.918945      14.598805          2               4820.189941  \n",
       "5809           2949.975342      26.365755          2               3154.331787  \n",
       "10783          3992.031250      23.776169          2               4126.694336  "
      ]
     },
     "execution_count": 164,
     "metadata": {},
     "output_type": "execute_result"
    }
   ],
   "source": [
    "X = train_df[feature_names]\n",
    "y = train_df[target_name]\n",
    "\n",
    "X.head()"
   ]
  },
  {
   "cell_type": "markdown",
   "metadata": {},
   "source": [
    "### Метод Random Forest Regressor\n",
    "\n",
    "Данный метод, как ни странно, дал лучшие показатели, чем GradientBoostingRegressor, BaggingRegressor, VotingRegressor, StackingRegressor и CatBoosterRegressor"
   ]
  },
  {
   "cell_type": "code",
   "execution_count": 165,
   "metadata": {},
   "outputs": [],
   "source": [
    "X_train, X_test, y_train, y_test = train_test_split(X, y, test_size=0.33, random_state = 42)"
   ]
  },
  {
   "cell_type": "code",
   "execution_count": 166,
   "metadata": {},
   "outputs": [
    {
     "data": {
      "text/plain": [
       "0.7764137029797952"
      ]
     },
     "execution_count": 166,
     "metadata": {},
     "output_type": "execute_result"
    }
   ],
   "source": [
    "model = RandomForestRegressor(n_estimators=350, max_depth=16, random_state=42, n_jobs=-1, max_features='log2')\n",
    "\n",
    "model.fit(X_train, y_train.values[:, 0])\n",
    "\n",
    "y_pred_1 = model.predict(X_test)\n",
    "\n",
    "r2_1 = r2_score(y_test, y_pred_1)\n",
    "r2_1"
   ]
  },
  {
   "cell_type": "markdown",
   "metadata": {},
   "source": [
    "Важность признаков"
   ]
  },
  {
   "cell_type": "code",
   "execution_count": 167,
   "metadata": {},
   "outputs": [
    {
     "data": {
      "image/png": "[encoded data removed]",
      "text/plain": [
       "<Figure size 720x432 with 1 Axes>"
      ]
     },
     "metadata": {},
     "output_type": "display_data"
    }
   ],
   "source": [
    "model.fit(X, y)\n",
    "importances = model.feature_importances_\n",
    "feat_importances = pd.Series(importances, index=feature_names)\n",
    "feat_importances.sort_values(ascending=True, inplace=True)\n",
    "\n",
    "feat_importances.plot(kind='barh', figsize=(10, 6));"
   ]
  },
  {
   "cell_type": "markdown",
   "metadata": {},
   "source": [
    "### Настройка и оценка финальной модели"
   ]
  },
  {
   "cell_type": "code",
   "execution_count": 168,
   "metadata": {},
   "outputs": [
    {
     "name": "stdout",
     "output_type": "stream",
     "text": [
      "Wall time: 9min 46s\n"
     ]
    },
    {
     "data": {
      "text/plain": [
       "GridSearchCV(cv=KFold(n_splits=5, random_state=42, shuffle=True),\n",
       "             estimator=RandomForestRegressor(max_depth=16, max_features='log2',\n",
       "                                             n_estimators=350, n_jobs=-1,\n",
       "                                             random_state=42),\n",
       "             n_jobs=-1,\n",
       "             param_grid={'max_depth': [7, 12, 16, 20, 22, 26],\n",
       "                         'max_features': ['auto', 'sqrt', 'log2'],\n",
       "                         'n_estimators': [100, 350, 450, 500, 650, 800, 1200]},\n",
       "             scoring='r2')"
      ]
     },
     "execution_count": 168,
     "metadata": {},
     "output_type": "execute_result"
    }
   ],
   "source": [
    "%%script false\n",
    "%%time\n",
    "params = {'n_estimators':[100, 350, 450, 500, 650, 800, 1200], \n",
    "          'max_depth':[7, 12, 16, 20, 22, 26],\n",
    "         'max_features': ['auto', 'sqrt', 'log2']}\n",
    "\n",
    "gs = GridSearchCV(model, params, \n",
    "                  scoring='r2', \n",
    "                  cv=KFold(n_splits=5,\n",
    "                           random_state=42, \n",
    "                           shuffle=True),\n",
    "                  n_jobs=-1\n",
    "                  )\n",
    "gs.fit(X_train, y_train)"
   ]
  },
  {
   "cell_type": "code",
   "execution_count": 169,
   "metadata": {},
   "outputs": [
    {
     "data": {
      "text/plain": [
       "{'max_depth': 12, 'max_features': 'sqrt', 'n_estimators': 1200}"
      ]
     },
     "execution_count": 169,
     "metadata": {},
     "output_type": "execute_result"
    }
   ],
   "source": [
    "gs.best_params_"
   ]
  },
  {
   "cell_type": "code",
   "execution_count": 170,
   "metadata": {},
   "outputs": [
    {
     "data": {
      "text/plain": [
       "(1200, 12, 'sqrt')"
      ]
     },
     "execution_count": 170,
     "metadata": {},
     "output_type": "execute_result"
    }
   ],
   "source": [
    "n_est = gs.best_params_['n_estimators']\n",
    "max_d = gs.best_params_['max_depth']\n",
    "max_f = gs.best_params_['max_features']\n",
    "n_est, max_d, max_f"
   ]
  },
  {
   "cell_type": "markdown",
   "metadata": {},
   "source": [
    "Переобучаем модель по новым расчитаным параметрам"
   ]
  },
  {
   "cell_type": "code",
   "execution_count": 171,
   "metadata": {},
   "outputs": [],
   "source": [
    "model_2 = RandomForestRegressor(n_estimators=n_est, max_depth=max_d, random_state=42, max_features=max_f)"
   ]
  },
  {
   "cell_type": "code",
   "execution_count": 172,
   "metadata": {},
   "outputs": [
    {
     "data": {
      "text/plain": [
       "RandomForestRegressor(max_depth=12, max_features='sqrt', n_estimators=1200,\n",
       "                      random_state=42)"
      ]
     },
     "execution_count": 172,
     "metadata": {},
     "output_type": "execute_result"
    }
   ],
   "source": [
    "model_2.fit(X_train, y_train.values[:, 0])"
   ]
  },
  {
   "cell_type": "code",
   "execution_count": 173,
   "metadata": {},
   "outputs": [],
   "source": [
    "y_pred_2 = model_2.predict(X_test)"
   ]
  },
  {
   "cell_type": "code",
   "execution_count": 174,
   "metadata": {},
   "outputs": [
    {
     "data": {
      "text/plain": [
       "0.7775645615979075"
      ]
     },
     "execution_count": 174,
     "metadata": {},
     "output_type": "execute_result"
    }
   ],
   "source": [
    "r2_2 = r2_score(y_test, y_pred_2)\n",
    "r2_2"
   ]
  },
  {
   "cell_type": "markdown",
   "metadata": {},
   "source": [
    "Обучение модели на всем тренировочном датасете"
   ]
  },
  {
   "cell_type": "code",
   "execution_count": 175,
   "metadata": {},
   "outputs": [
    {
     "data": {
      "text/plain": [
       "RandomForestRegressor(max_depth=12, max_features='sqrt', n_estimators=1200,\n",
       "                      random_state=42)"
      ]
     },
     "execution_count": 175,
     "metadata": {},
     "output_type": "execute_result"
    }
   ],
   "source": [
    "model_final = model_2\n",
    "\n",
    "model_final.fit(X, y.values[:, 0])"
   ]
  },
  {
   "cell_type": "markdown",
   "metadata": {},
   "source": [
    "### Прогнозирование на тестовом датасете"
   ]
  },
  {
   "cell_type": "code",
   "execution_count": 176,
   "metadata": {},
   "outputs": [],
   "source": [
    "X_test = test_df[feature_names]\n",
    "\n",
    "y_pred = model_final.predict(X_test)\n",
    "\n",
    "preds = pd.DataFrame()\n",
    "preds['Id'] = X_test.index\n",
    "preds['Price'] = y_pred"
   ]
  },
  {
   "cell_type": "code",
   "execution_count": 177,
   "metadata": {},
   "outputs": [],
   "source": [
    "preds.to_csv('submission.csv', index=False)"
   ]
  },
  {
   "cell_type": "code",
   "execution_count": null,
   "metadata": {},
   "outputs": [],
   "source": []
  }
 ],
 "metadata": {
  "kernelspec": {
   "display_name": "Python 3",
   "language": "python",
   "name": "python3"
  },
  "language_info": {
   "codemirror_mode": {
    "name": "ipython",
    "version": 3
   },
   "file_extension": ".py",
   "mimetype": "text/x-python",
   "name": "python",
   "nbconvert_exporter": "python",
   "pygments_lexer": "ipython3",
   "version": "3.8.5"
  }
 },
 "nbformat": 4,
 "nbformat_minor": 4
}
